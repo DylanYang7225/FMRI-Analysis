{
 "cells": [
  {
   "cell_type": "code",
   "execution_count": null,
   "metadata": {},
   "outputs": [],
   "source": [
    "## Intra-class correlation"
   ]
  },
  {
   "cell_type": "code",
   "execution_count": null,
   "metadata": {},
   "outputs": [],
   "source": [
    "## Pairwise correlation of heatmaps, get max and min correlations to check consistency both across subjects and across regions"
   ]
  },
  {
   "cell_type": "code",
   "execution_count": null,
   "metadata": {},
   "outputs": [],
   "source": [
    "## potentially write up and send it to Neuroimage"
   ]
  },
  {
   "cell_type": "code",
   "execution_count": 1,
   "metadata": {},
   "outputs": [
    {
     "name": "stderr",
     "output_type": "stream",
     "text": [
      "D:\\anaconda\\lib\\site-packages\\outdated\\utils.py:18: OutdatedPackageWarning: The package pingouin is out of date. Your version is 0.3.4, the latest is 0.3.6.\n",
      "Set the environment variable OUTDATED_IGNORE=1 to disable these warnings.\n",
      "  **kwargs\n"
     ]
    }
   ],
   "source": [
    "import pingouin as pg\n",
    "import pandas as pd\n",
    "import numpy as np\n",
    "import scipy.io\n",
    "from matplotlib import pyplot as plt\n",
    "import seaborn\n",
    "import math\n",
    "import itertools"
   ]
  },
  {
   "cell_type": "code",
   "execution_count": 28,
   "metadata": {},
   "outputs": [],
   "source": [
    "# Reading in Rscore files by stack and concatenate them\n",
    "runs = ['run1','run2','run3','run4']\n",
    "all_Rscore = []\n",
    "\n",
    "for run in runs:\n",
    "    file = 'E:/projects/connectome/results/'+run+'/Rscore/Rscore_1.csv'\n",
    "    Rscore = pd.read_csv(file)\n",
    "    Rscore = Rscore.rename(columns={'Unnamed: 0':'ID'})\n",
    "    Rscore = Rscore.set_index('ID')\n",
    "    for i in range(2,21):\n",
    "        file = 'E:/projects/connectome/results/'+run+'/Rscore/Rscore_'+str(i)+'.csv'\n",
    "        tmp2 = pd.read_csv(file)\n",
    "        tmp2 = tmp2.rename(columns={'Unnamed: 0':'ID'})\n",
    "        tmp2 = tmp2.set_index('ID')\n",
    "        Rscore = pd.concat([Rscore, tmp2],sort=True)\n",
    "\n",
    "    # sort regions by region number\n",
    "    for reg in Rscore:\n",
    "        Rscore = Rscore.rename(columns={reg:int(reg.strip('region '))})\n",
    "    Rscore = Rscore.sort_index(axis=1)\n",
    "    for reg in Rscore:\n",
    "        Rscore = Rscore.rename(columns={reg:'region '+str(reg)})\n",
    "    \n",
    "    # sort by subject ID and save to file\n",
    "    Rscore.to_csv('E:/projects/connectome/results/'+run+'/Rscore/Rscore_all.csv',index=True)\n",
    "    \n",
    "    all_Rscore.append(Rscore)"
   ]
  },
  {
   "cell_type": "markdown",
   "metadata": {},
   "source": [
    "#### Since run1 only has 810 subjects, we subset these subjects from run2,run3,run4 and compute ICC for those 810 subjects"
   ]
  },
  {
   "cell_type": "code",
   "execution_count": 44,
   "metadata": {},
   "outputs": [],
   "source": [
    "sub_IDs = all_Rscore[0].index"
   ]
  },
  {
   "cell_type": "code",
   "execution_count": 46,
   "metadata": {},
   "outputs": [],
   "source": [
    "for i in range(1,4):\n",
    "    all_Rscore[i] = all_Rscore[i].loc[sub_IDs]"
   ]
  },
  {
   "cell_type": "markdown",
   "metadata": {},
   "source": [
    "# Compute ICC for all subjects and regions collectively"
   ]
  },
  {
   "cell_type": "markdown",
   "metadata": {},
   "source": [
    "#### We will use the function icc() from module 'pingouin' to compute this, but first we have to make sure that the input data to icc() is appropriately formated. Lets take a look at the sample input of icc()"
   ]
  },
  {
   "cell_type": "code",
   "execution_count": 23,
   "metadata": {},
   "outputs": [
    {
     "data": {
      "text/html": [
       "<div>\n",
       "<style scoped>\n",
       "    .dataframe tbody tr th:only-of-type {\n",
       "        vertical-align: middle;\n",
       "    }\n",
       "\n",
       "    .dataframe tbody tr th {\n",
       "        vertical-align: top;\n",
       "    }\n",
       "\n",
       "    .dataframe thead th {\n",
       "        text-align: right;\n",
       "    }\n",
       "</style>\n",
       "<table border=\"1\" class=\"dataframe\">\n",
       "  <thead>\n",
       "    <tr style=\"text-align: right;\">\n",
       "      <th></th>\n",
       "      <th>Wine</th>\n",
       "      <th>Judge</th>\n",
       "      <th>Scores</th>\n",
       "    </tr>\n",
       "  </thead>\n",
       "  <tbody>\n",
       "    <tr>\n",
       "      <td>0</td>\n",
       "      <td>1</td>\n",
       "      <td>A</td>\n",
       "      <td>1</td>\n",
       "    </tr>\n",
       "    <tr>\n",
       "      <td>1</td>\n",
       "      <td>2</td>\n",
       "      <td>A</td>\n",
       "      <td>1</td>\n",
       "    </tr>\n",
       "    <tr>\n",
       "      <td>2</td>\n",
       "      <td>3</td>\n",
       "      <td>A</td>\n",
       "      <td>3</td>\n",
       "    </tr>\n",
       "    <tr>\n",
       "      <td>3</td>\n",
       "      <td>4</td>\n",
       "      <td>A</td>\n",
       "      <td>6</td>\n",
       "    </tr>\n",
       "    <tr>\n",
       "      <td>4</td>\n",
       "      <td>5</td>\n",
       "      <td>A</td>\n",
       "      <td>6</td>\n",
       "    </tr>\n",
       "    <tr>\n",
       "      <td>5</td>\n",
       "      <td>6</td>\n",
       "      <td>A</td>\n",
       "      <td>7</td>\n",
       "    </tr>\n",
       "    <tr>\n",
       "      <td>6</td>\n",
       "      <td>7</td>\n",
       "      <td>A</td>\n",
       "      <td>8</td>\n",
       "    </tr>\n",
       "    <tr>\n",
       "      <td>7</td>\n",
       "      <td>8</td>\n",
       "      <td>A</td>\n",
       "      <td>9</td>\n",
       "    </tr>\n",
       "    <tr>\n",
       "      <td>8</td>\n",
       "      <td>1</td>\n",
       "      <td>B</td>\n",
       "      <td>2</td>\n",
       "    </tr>\n",
       "    <tr>\n",
       "      <td>9</td>\n",
       "      <td>2</td>\n",
       "      <td>B</td>\n",
       "      <td>3</td>\n",
       "    </tr>\n",
       "  </tbody>\n",
       "</table>\n",
       "</div>"
      ],
      "text/plain": [
       "   Wine Judge  Scores\n",
       "0     1     A       1\n",
       "1     2     A       1\n",
       "2     3     A       3\n",
       "3     4     A       6\n",
       "4     5     A       6\n",
       "5     6     A       7\n",
       "6     7     A       8\n",
       "7     8     A       9\n",
       "8     1     B       2\n",
       "9     2     B       3"
      ]
     },
     "execution_count": 23,
     "metadata": {},
     "output_type": "execute_result"
    }
   ],
   "source": [
    "pg.read_dataset('icc').head(10)"
   ]
  },
  {
   "cell_type": "code",
   "execution_count": 47,
   "metadata": {},
   "outputs": [],
   "source": [
    "# define product sets for convenient extraction of data from multiarray all_Rscore[[]]\n",
    "# since we put sub_and_reg, run and correponding Rscore in three different vectors before creating dataframe\n",
    "# we use sorted() to make sure that the values line up \n",
    "\n",
    "prod_sub_reg_run = sorted(list(itertools.product(all_Rscore[0].index,all_Rscore[0].columns,range(1,5))))     \n",
    "prod_sub_reg = list(itertools.product(all_Rscore[0].index,all_Rscore[0].columns))\n",
    "# \n",
    "df_index = sorted(prod_sub_reg*4)"
   ]
  },
  {
   "cell_type": "code",
   "execution_count": 52,
   "metadata": {},
   "outputs": [],
   "source": [
    "runs = []\n",
    "for tmp in list(itertools.repeat([1,2,3,4],810*160)):\n",
    "    runs.extend(tmp)"
   ]
  },
  {
   "cell_type": "code",
   "execution_count": 53,
   "metadata": {},
   "outputs": [],
   "source": [
    "all_Rscore_to_vec = []\n",
    "for sub_reg_run in prod_sub_reg_run:\n",
    "    sub = sub_reg_run[0]\n",
    "    reg = sub_reg_run[1]\n",
    "    run = sub_reg_run[2]\n",
    "    \n",
    "    all_Rscore_to_vec.append(all_Rscore[run-1][reg].loc[sub])"
   ]
  },
  {
   "cell_type": "code",
   "execution_count": 54,
   "metadata": {},
   "outputs": [],
   "source": [
    "df = pd.DataFrame({'sub and reg':df_index, 'run':runs, 'Rscore':all_Rscore_to_vec})"
   ]
  },
  {
   "cell_type": "markdown",
   "metadata": {},
   "source": [
    "#### So the final data frame that we will feed into the function looks like"
   ]
  },
  {
   "cell_type": "code",
   "execution_count": 56,
   "metadata": {},
   "outputs": [
    {
     "data": {
      "text/html": [
       "<div>\n",
       "<style scoped>\n",
       "    .dataframe tbody tr th:only-of-type {\n",
       "        vertical-align: middle;\n",
       "    }\n",
       "\n",
       "    .dataframe tbody tr th {\n",
       "        vertical-align: top;\n",
       "    }\n",
       "\n",
       "    .dataframe thead th {\n",
       "        text-align: right;\n",
       "    }\n",
       "</style>\n",
       "<table border=\"1\" class=\"dataframe\">\n",
       "  <thead>\n",
       "    <tr style=\"text-align: right;\">\n",
       "      <th></th>\n",
       "      <th>sub and reg</th>\n",
       "      <th>run</th>\n",
       "      <th>Rscore</th>\n",
       "    </tr>\n",
       "  </thead>\n",
       "  <tbody>\n",
       "    <tr>\n",
       "      <td>0</td>\n",
       "      <td>(sub102513, region 1)</td>\n",
       "      <td>1</td>\n",
       "      <td>0.439657</td>\n",
       "    </tr>\n",
       "    <tr>\n",
       "      <td>1</td>\n",
       "      <td>(sub102513, region 1)</td>\n",
       "      <td>2</td>\n",
       "      <td>0.380138</td>\n",
       "    </tr>\n",
       "    <tr>\n",
       "      <td>2</td>\n",
       "      <td>(sub102513, region 1)</td>\n",
       "      <td>3</td>\n",
       "      <td>0.190480</td>\n",
       "    </tr>\n",
       "    <tr>\n",
       "      <td>3</td>\n",
       "      <td>(sub102513, region 1)</td>\n",
       "      <td>4</td>\n",
       "      <td>0.218381</td>\n",
       "    </tr>\n",
       "    <tr>\n",
       "      <td>4</td>\n",
       "      <td>(sub102513, region 10)</td>\n",
       "      <td>1</td>\n",
       "      <td>0.408745</td>\n",
       "    </tr>\n",
       "    <tr>\n",
       "      <td>5</td>\n",
       "      <td>(sub102513, region 10)</td>\n",
       "      <td>2</td>\n",
       "      <td>0.448898</td>\n",
       "    </tr>\n",
       "    <tr>\n",
       "      <td>6</td>\n",
       "      <td>(sub102513, region 10)</td>\n",
       "      <td>3</td>\n",
       "      <td>0.183966</td>\n",
       "    </tr>\n",
       "    <tr>\n",
       "      <td>7</td>\n",
       "      <td>(sub102513, region 10)</td>\n",
       "      <td>4</td>\n",
       "      <td>0.264663</td>\n",
       "    </tr>\n",
       "    <tr>\n",
       "      <td>8</td>\n",
       "      <td>(sub102513, region 100)</td>\n",
       "      <td>1</td>\n",
       "      <td>0.417422</td>\n",
       "    </tr>\n",
       "    <tr>\n",
       "      <td>9</td>\n",
       "      <td>(sub102513, region 100)</td>\n",
       "      <td>2</td>\n",
       "      <td>0.424707</td>\n",
       "    </tr>\n",
       "  </tbody>\n",
       "</table>\n",
       "</div>"
      ],
      "text/plain": [
       "               sub and reg  run    Rscore\n",
       "0    (sub102513, region 1)    1  0.439657\n",
       "1    (sub102513, region 1)    2  0.380138\n",
       "2    (sub102513, region 1)    3  0.190480\n",
       "3    (sub102513, region 1)    4  0.218381\n",
       "4   (sub102513, region 10)    1  0.408745\n",
       "5   (sub102513, region 10)    2  0.448898\n",
       "6   (sub102513, region 10)    3  0.183966\n",
       "7   (sub102513, region 10)    4  0.264663\n",
       "8  (sub102513, region 100)    1  0.417422\n",
       "9  (sub102513, region 100)    2  0.424707"
      ]
     },
     "execution_count": 56,
     "metadata": {},
     "output_type": "execute_result"
    }
   ],
   "source": [
    "df.head(10)"
   ]
  },
  {
   "cell_type": "code",
   "execution_count": 57,
   "metadata": {},
   "outputs": [],
   "source": [
    "icc = pg.intraclass_corr(data=df, targets='sub and reg', raters='run',ratings='Rscore')"
   ]
  },
  {
   "cell_type": "code",
   "execution_count": 58,
   "metadata": {},
   "outputs": [
    {
     "data": {
      "text/html": [
       "<div>\n",
       "<style scoped>\n",
       "    .dataframe tbody tr th:only-of-type {\n",
       "        vertical-align: middle;\n",
       "    }\n",
       "\n",
       "    .dataframe tbody tr th {\n",
       "        vertical-align: top;\n",
       "    }\n",
       "\n",
       "    .dataframe thead th {\n",
       "        text-align: right;\n",
       "    }\n",
       "</style>\n",
       "<table border=\"1\" class=\"dataframe\">\n",
       "  <thead>\n",
       "    <tr style=\"text-align: right;\">\n",
       "      <th></th>\n",
       "      <th>Type</th>\n",
       "      <th>Description</th>\n",
       "      <th>ICC</th>\n",
       "      <th>F</th>\n",
       "      <th>df1</th>\n",
       "      <th>df2</th>\n",
       "      <th>pval</th>\n",
       "      <th>CI95%</th>\n",
       "    </tr>\n",
       "  </thead>\n",
       "  <tbody>\n",
       "    <tr>\n",
       "      <td>0</td>\n",
       "      <td>ICC1</td>\n",
       "      <td>Single raters absolute</td>\n",
       "      <td>0.868998</td>\n",
       "      <td>27.533910</td>\n",
       "      <td>129599</td>\n",
       "      <td>388800</td>\n",
       "      <td>0.0</td>\n",
       "      <td>[0.87, 0.87]</td>\n",
       "    </tr>\n",
       "    <tr>\n",
       "      <td>1</td>\n",
       "      <td>ICC2</td>\n",
       "      <td>Single random raters</td>\n",
       "      <td>0.869038</td>\n",
       "      <td>27.790253</td>\n",
       "      <td>129599</td>\n",
       "      <td>388797</td>\n",
       "      <td>0.0</td>\n",
       "      <td>[0.87, 0.87]</td>\n",
       "    </tr>\n",
       "    <tr>\n",
       "      <td>2</td>\n",
       "      <td>ICC3</td>\n",
       "      <td>Single fixed raters</td>\n",
       "      <td>0.870089</td>\n",
       "      <td>27.790253</td>\n",
       "      <td>129599</td>\n",
       "      <td>388797</td>\n",
       "      <td>0.0</td>\n",
       "      <td>[0.87, 0.87]</td>\n",
       "    </tr>\n",
       "    <tr>\n",
       "      <td>3</td>\n",
       "      <td>ICC1k</td>\n",
       "      <td>Average raters absolute</td>\n",
       "      <td>0.963681</td>\n",
       "      <td>27.533910</td>\n",
       "      <td>129599</td>\n",
       "      <td>388800</td>\n",
       "      <td>0.0</td>\n",
       "      <td>[0.96, 0.96]</td>\n",
       "    </tr>\n",
       "    <tr>\n",
       "      <td>4</td>\n",
       "      <td>ICC2k</td>\n",
       "      <td>Average random raters</td>\n",
       "      <td>0.963693</td>\n",
       "      <td>27.790253</td>\n",
       "      <td>129599</td>\n",
       "      <td>388797</td>\n",
       "      <td>0.0</td>\n",
       "      <td>[0.96, 0.96]</td>\n",
       "    </tr>\n",
       "    <tr>\n",
       "      <td>5</td>\n",
       "      <td>ICC3k</td>\n",
       "      <td>Average fixed raters</td>\n",
       "      <td>0.964016</td>\n",
       "      <td>27.790253</td>\n",
       "      <td>129599</td>\n",
       "      <td>388797</td>\n",
       "      <td>0.0</td>\n",
       "      <td>[0.96, 0.96]</td>\n",
       "    </tr>\n",
       "  </tbody>\n",
       "</table>\n",
       "</div>"
      ],
      "text/plain": [
       "    Type              Description       ICC          F     df1     df2  pval  \\\n",
       "0   ICC1   Single raters absolute  0.868998  27.533910  129599  388800   0.0   \n",
       "1   ICC2     Single random raters  0.869038  27.790253  129599  388797   0.0   \n",
       "2   ICC3      Single fixed raters  0.870089  27.790253  129599  388797   0.0   \n",
       "3  ICC1k  Average raters absolute  0.963681  27.533910  129599  388800   0.0   \n",
       "4  ICC2k    Average random raters  0.963693  27.790253  129599  388797   0.0   \n",
       "5  ICC3k     Average fixed raters  0.964016  27.790253  129599  388797   0.0   \n",
       "\n",
       "          CI95%  \n",
       "0  [0.87, 0.87]  \n",
       "1  [0.87, 0.87]  \n",
       "2  [0.87, 0.87]  \n",
       "3  [0.96, 0.96]  \n",
       "4  [0.96, 0.96]  \n",
       "5  [0.96, 0.96]  "
      ]
     },
     "execution_count": 58,
     "metadata": {},
     "output_type": "execute_result"
    }
   ],
   "source": [
    "icc"
   ]
  },
  {
   "cell_type": "markdown",
   "metadata": {},
   "source": [
    "# Subject-wise ICC"
   ]
  },
  {
   "cell_type": "markdown",
   "metadata": {},
   "source": [
    "#### Next we compute ICC across all subjects, treating all 4 runs as raters. Basically we gather R scores for all 160 regions for a subject, each of the region has an R score in a run, then we compute ICC subject to subject."
   ]
  },
  {
   "cell_type": "code",
   "execution_count": 126,
   "metadata": {
    "scrolled": true
   },
   "outputs": [],
   "source": [
    "subwise_ICC2 = []\n",
    "subwise_ICC3 = []\n",
    "subwise_ICC2K = []\n",
    "subwise_ICC3K = []\n",
    "\n",
    "sub_IDs = sorted(list(all_Rscore[0].index))\n",
    "regs = sorted(list(all_Rscore[0].columns)*4)\n",
    "runs = []\n",
    "for tmp in list(itertools.repeat([1,2,3,4],160)):\n",
    "    runs.extend(tmp)\n",
    "    \n",
    "for sub in sub_IDs:\n",
    "    vectorized_Rscore = []    \n",
    "    for reg in all_Rscore[0].columns:    \n",
    "        for run in range(0,4):\n",
    "            vectorized_Rscore.append(all_Rscore[run][reg].loc[sub])\n",
    "    \n",
    "    sub_df = pd.DataFrame({'reg':regs, 'run':runs, 'Rscore':vectorized_Rscore})\n",
    "    \n",
    "    icc = pg.intraclass_corr(data=sub_df, targets='reg', raters='run',ratings='Rscore')\n",
    "    \n",
    "    subwise_ICC2.append(icc['ICC'].loc[1])\n",
    "    subwise_ICC3.append(icc['ICC'].loc[2])\n",
    "    subwise_ICC2K.append(icc['ICC'].loc[4])\n",
    "    subwise_ICC3K.append(icc['ICC'].loc[5])       "
   ]
  },
  {
   "cell_type": "code",
   "execution_count": 127,
   "metadata": {},
   "outputs": [],
   "source": [
    "subwise_ICC = pd.DataFrame({'ICC2':subwise_ICC2,'ICC3':subwise_ICC3,'ICC2K':subwise_ICC2K,'ICC3K':subwise_ICC3K})"
   ]
  },
  {
   "cell_type": "code",
   "execution_count": 128,
   "metadata": {},
   "outputs": [],
   "source": [
    "subwise_ICC.index = sub_IDs"
   ]
  },
  {
   "cell_type": "code",
   "execution_count": 129,
   "metadata": {},
   "outputs": [
    {
     "data": {
      "image/png": "[encoded data removed]",
      "text/plain": [
       "<Figure size 432x288 with 2 Axes>"
      ]
     },
     "metadata": {
      "needs_background": "light"
     },
     "output_type": "display_data"
    }
   ],
   "source": [
    "seaborn.heatmap(subwise_ICC)\n",
    "plt.show()"
   ]
  },
  {
   "cell_type": "code",
   "execution_count": 130,
   "metadata": {},
   "outputs": [],
   "source": [
    "subwise_ICC_min = []\n",
    "subwise_ICC_max = []\n",
    "subwise_ICC_mean = []\n",
    "subwise_ICC_std = []\n",
    "\n",
    "criteria = ['ICC2','ICC3','ICC2K','ICC3K']\n",
    "for criterion in criteria:\n",
    "    subwise_ICC_min.append(min(subwise_ICC[criterion]))\n",
    "    subwise_ICC_max.append(max(subwise_ICC[criterion]))\n",
    "    subwise_ICC_mean.append(np.mean(subwise_ICC[criterion]))\n",
    "    subwise_ICC_std.append(np.std(subwise_ICC[criterion]))"
   ]
  },
  {
   "cell_type": "code",
   "execution_count": 131,
   "metadata": {},
   "outputs": [],
   "source": [
    "subwise_ICC_stats = pd.DataFrame({'subjectwise_min':subwise_ICC_min,'subjectwise_max':subwise_ICC_max,'subjectwise_mean':subwise_ICC_mean,'subjectwise_std':subwise_ICC_std})"
   ]
  },
  {
   "cell_type": "code",
   "execution_count": 132,
   "metadata": {},
   "outputs": [],
   "source": [
    "subwise_ICC_stats.index = criteria"
   ]
  },
  {
   "cell_type": "code",
   "execution_count": 133,
   "metadata": {},
   "outputs": [
    {
     "data": {
      "text/html": [
       "<div>\n",
       "<style scoped>\n",
       "    .dataframe tbody tr th:only-of-type {\n",
       "        vertical-align: middle;\n",
       "    }\n",
       "\n",
       "    .dataframe tbody tr th {\n",
       "        vertical-align: top;\n",
       "    }\n",
       "\n",
       "    .dataframe thead th {\n",
       "        text-align: right;\n",
       "    }\n",
       "</style>\n",
       "<table border=\"1\" class=\"dataframe\">\n",
       "  <thead>\n",
       "    <tr style=\"text-align: right;\">\n",
       "      <th></th>\n",
       "      <th>subjectwise_min</th>\n",
       "      <th>subjectwise_max</th>\n",
       "      <th>subjectwise_mean</th>\n",
       "      <th>subjectwise_std</th>\n",
       "    </tr>\n",
       "  </thead>\n",
       "  <tbody>\n",
       "    <tr>\n",
       "      <td>ICC2</td>\n",
       "      <td>0.470297</td>\n",
       "      <td>0.949830</td>\n",
       "      <td>0.859111</td>\n",
       "      <td>0.055205</td>\n",
       "    </tr>\n",
       "    <tr>\n",
       "      <td>ICC3</td>\n",
       "      <td>0.701309</td>\n",
       "      <td>0.951845</td>\n",
       "      <td>0.884214</td>\n",
       "      <td>0.036475</td>\n",
       "    </tr>\n",
       "    <tr>\n",
       "      <td>ICC2K</td>\n",
       "      <td>0.780288</td>\n",
       "      <td>0.986967</td>\n",
       "      <td>0.959737</td>\n",
       "      <td>0.019140</td>\n",
       "    </tr>\n",
       "    <tr>\n",
       "      <td>ICC3K</td>\n",
       "      <td>0.903770</td>\n",
       "      <td>0.987510</td>\n",
       "      <td>0.967961</td>\n",
       "      <td>0.011342</td>\n",
       "    </tr>\n",
       "  </tbody>\n",
       "</table>\n",
       "</div>"
      ],
      "text/plain": [
       "       subjectwise_min  subjectwise_max  subjectwise_mean  subjectwise_std\n",
       "ICC2          0.470297         0.949830          0.859111         0.055205\n",
       "ICC3          0.701309         0.951845          0.884214         0.036475\n",
       "ICC2K         0.780288         0.986967          0.959737         0.019140\n",
       "ICC3K         0.903770         0.987510          0.967961         0.011342"
      ]
     },
     "execution_count": 133,
     "metadata": {},
     "output_type": "execute_result"
    }
   ],
   "source": [
    "subwise_ICC_stats"
   ]
  },
  {
   "cell_type": "markdown",
   "metadata": {},
   "source": [
    "# Region-wise ICC"
   ]
  },
  {
   "cell_type": "code",
   "execution_count": 137,
   "metadata": {},
   "outputs": [],
   "source": [
    "regwise_ICC2 = []\n",
    "regwise_ICC3 = []\n",
    "regwise_ICC2K = []\n",
    "regwise_ICC3K = []\n",
    "\n",
    "sub_IDs = sorted(list(all_Rscore[0].index))\n",
    "subs = list(sorted(list(all_Rscore[0].index)*4))\n",
    "runs = []\n",
    "for tmp in list(itertools.repeat([1,2,3,4],810)):\n",
    "    runs.extend(tmp)\n",
    "        \n"
   ]
  },
  {
   "cell_type": "code",
   "execution_count": 139,
   "metadata": {},
   "outputs": [
    {
     "name": "stdout",
     "output_type": "stream",
     "text": [
      "region 1 is done\n",
      "region 2 is done\n",
      "region 3 is done\n",
      "region 4 is done\n",
      "region 5 is done\n",
      "region 6 is done\n",
      "region 7 is done\n",
      "region 8 is done\n",
      "region 9 is done\n",
      "region 10 is done\n",
      "region 11 is done\n",
      "region 12 is done\n",
      "region 13 is done\n",
      "region 14 is done\n",
      "region 15 is done\n",
      "region 16 is done\n",
      "region 17 is done\n",
      "region 18 is done\n",
      "region 19 is done\n",
      "region 20 is done\n",
      "region 21 is done\n",
      "region 22 is done\n",
      "region 23 is done\n",
      "region 24 is done\n",
      "region 25 is done\n",
      "region 26 is done\n",
      "region 27 is done\n",
      "region 28 is done\n",
      "region 29 is done\n",
      "region 30 is done\n",
      "region 31 is done\n",
      "region 32 is done\n",
      "region 33 is done\n",
      "region 34 is done\n",
      "region 35 is done\n",
      "region 36 is done\n",
      "region 37 is done\n",
      "region 38 is done\n",
      "region 39 is done\n",
      "region 40 is done\n",
      "region 41 is done\n",
      "region 42 is done\n",
      "region 43 is done\n",
      "region 44 is done\n",
      "region 45 is done\n",
      "region 46 is done\n",
      "region 47 is done\n",
      "region 48 is done\n",
      "region 49 is done\n",
      "region 50 is done\n",
      "region 51 is done\n",
      "region 52 is done\n",
      "region 53 is done\n",
      "region 54 is done\n",
      "region 55 is done\n",
      "region 56 is done\n",
      "region 57 is done\n",
      "region 58 is done\n",
      "region 59 is done\n",
      "region 60 is done\n",
      "region 61 is done\n",
      "region 62 is done\n",
      "region 63 is done\n",
      "region 64 is done\n",
      "region 65 is done\n",
      "region 66 is done\n",
      "region 67 is done\n",
      "region 68 is done\n",
      "region 69 is done\n",
      "region 70 is done\n",
      "region 71 is done\n",
      "region 72 is done\n",
      "region 73 is done\n",
      "region 74 is done\n",
      "region 75 is done\n",
      "region 76 is done\n",
      "region 77 is done\n",
      "region 78 is done\n",
      "region 79 is done\n",
      "region 80 is done\n",
      "region 81 is done\n",
      "region 82 is done\n",
      "region 83 is done\n",
      "region 84 is done\n",
      "region 85 is done\n",
      "region 86 is done\n",
      "region 87 is done\n",
      "region 88 is done\n",
      "region 89 is done\n",
      "region 90 is done\n",
      "region 91 is done\n",
      "region 92 is done\n",
      "region 93 is done\n",
      "region 94 is done\n",
      "region 95 is done\n",
      "region 96 is done\n",
      "region 97 is done\n",
      "region 98 is done\n",
      "region 99 is done\n",
      "region 100 is done\n",
      "region 101 is done\n",
      "region 102 is done\n",
      "region 103 is done\n",
      "region 104 is done\n",
      "region 105 is done\n",
      "region 106 is done\n",
      "region 107 is done\n",
      "region 108 is done\n",
      "region 109 is done\n",
      "region 110 is done\n",
      "region 111 is done\n",
      "region 112 is done\n",
      "region 113 is done\n",
      "region 114 is done\n",
      "region 115 is done\n",
      "region 116 is done\n",
      "region 117 is done\n",
      "region 118 is done\n",
      "region 119 is done\n",
      "region 120 is done\n",
      "region 121 is done\n",
      "region 122 is done\n",
      "region 123 is done\n",
      "region 124 is done\n",
      "region 125 is done\n",
      "region 126 is done\n",
      "region 127 is done\n",
      "region 128 is done\n",
      "region 129 is done\n",
      "region 130 is done\n",
      "region 131 is done\n",
      "region 132 is done\n",
      "region 133 is done\n",
      "region 134 is done\n",
      "region 135 is done\n",
      "region 136 is done\n",
      "region 137 is done\n",
      "region 138 is done\n",
      "region 139 is done\n",
      "region 140 is done\n",
      "region 141 is done\n",
      "region 142 is done\n",
      "region 143 is done\n",
      "region 144 is done\n",
      "region 145 is done\n",
      "region 146 is done\n",
      "region 147 is done\n",
      "region 148 is done\n",
      "region 149 is done\n",
      "region 150 is done\n",
      "region 151 is done\n",
      "region 152 is done\n",
      "region 153 is done\n",
      "region 154 is done\n",
      "region 155 is done\n",
      "region 156 is done\n",
      "region 157 is done\n",
      "region 158 is done\n",
      "region 159 is done\n",
      "region 160 is done\n"
     ]
    }
   ],
   "source": [
    "for reg in list(all_Rscore[0].columns):    \n",
    "    vectorized_Rscore = []    \n",
    "    for sub in sub_IDs:\n",
    "        for run in range(0,4):\n",
    "            vectorized_Rscore.append(all_Rscore[run][reg].loc[sub])\n",
    "    \n",
    "    reg_df = pd.DataFrame({'sub':subs, 'run':runs, 'Rscore':vectorized_Rscore})\n",
    "    \n",
    "    icc = pg.intraclass_corr(data=reg_df, targets='sub', raters='run',ratings='Rscore')\n",
    "    \n",
    "    regwise_ICC2.append(icc['ICC'].loc[1])\n",
    "    regwise_ICC3.append(icc['ICC'].loc[2])\n",
    "    regwise_ICC2K.append(icc['ICC'].loc[4])\n",
    "    regwise_ICC3K.append(icc['ICC'].loc[5])    "
   ]
  },
  {
   "cell_type": "code",
   "execution_count": 140,
   "metadata": {},
   "outputs": [],
   "source": [
    "regwise_ICC = pd.DataFrame({'ICC2':regwise_ICC2,'ICC3':regwise_ICC3,'ICC2K':regwise_ICC2K,'ICC3K':regwise_ICC3K})"
   ]
  },
  {
   "cell_type": "code",
   "execution_count": 142,
   "metadata": {},
   "outputs": [],
   "source": [
    "regwise_ICC.index = list(all_Rscore[0].columns)"
   ]
  },
  {
   "cell_type": "code",
   "execution_count": 143,
   "metadata": {},
   "outputs": [
    {
     "data": {
      "image/png": "[encoded data removed]",
      "text/plain": [
       "<Figure size 432x288 with 2 Axes>"
      ]
     },
     "metadata": {
      "needs_background": "light"
     },
     "output_type": "display_data"
    }
   ],
   "source": [
    "seaborn.heatmap(regwise_ICC)\n",
    "plt.show()"
   ]
  },
  {
   "cell_type": "code",
   "execution_count": 144,
   "metadata": {},
   "outputs": [],
   "source": [
    "regwise_ICC_min = []\n",
    "regwise_ICC_max = []\n",
    "regwise_ICC_mean = []\n",
    "regwise_ICC_std = []\n",
    "\n",
    "criteria = ['ICC2','ICC3','ICC2K','ICC3K']\n",
    "for criterion in criteria:\n",
    "    regwise_ICC_min.append(min(regwise_ICC[criterion]))\n",
    "    regwise_ICC_max.append(max(regwise_ICC[criterion]))\n",
    "    regwise_ICC_mean.append(np.mean(regwise_ICC[criterion]))\n",
    "    regwise_ICC_std.append(np.std(regwise_ICC[criterion]))"
   ]
  },
  {
   "cell_type": "code",
   "execution_count": 145,
   "metadata": {},
   "outputs": [],
   "source": [
    "regwise_ICC_stats = pd.DataFrame({'regionwise_min':regwise_ICC_min,'regionwise_max':regwise_ICC_max,'regionwise_mean':regwise_ICC_mean,'regionwise_std':regwise_ICC_std})"
   ]
  },
  {
   "cell_type": "code",
   "execution_count": 146,
   "metadata": {},
   "outputs": [],
   "source": [
    "regwise_ICC_stats.index = criteria"
   ]
  },
  {
   "cell_type": "code",
   "execution_count": 148,
   "metadata": {},
   "outputs": [
    {
     "data": {
      "text/html": [
       "<div>\n",
       "<style scoped>\n",
       "    .dataframe tbody tr th:only-of-type {\n",
       "        vertical-align: middle;\n",
       "    }\n",
       "\n",
       "    .dataframe tbody tr th {\n",
       "        vertical-align: top;\n",
       "    }\n",
       "\n",
       "    .dataframe thead th {\n",
       "        text-align: right;\n",
       "    }\n",
       "</style>\n",
       "<table border=\"1\" class=\"dataframe\">\n",
       "  <thead>\n",
       "    <tr style=\"text-align: right;\">\n",
       "      <th></th>\n",
       "      <th>regionwise_min</th>\n",
       "      <th>regionwise_max</th>\n",
       "      <th>regionwise_mean</th>\n",
       "      <th>regionwise_std</th>\n",
       "    </tr>\n",
       "  </thead>\n",
       "  <tbody>\n",
       "    <tr>\n",
       "      <td>ICC2</td>\n",
       "      <td>0.106114</td>\n",
       "      <td>0.868664</td>\n",
       "      <td>0.622342</td>\n",
       "      <td>0.156190</td>\n",
       "    </tr>\n",
       "    <tr>\n",
       "      <td>ICC3</td>\n",
       "      <td>0.107329</td>\n",
       "      <td>0.868932</td>\n",
       "      <td>0.632159</td>\n",
       "      <td>0.157305</td>\n",
       "    </tr>\n",
       "    <tr>\n",
       "      <td>ICC2K</td>\n",
       "      <td>0.321961</td>\n",
       "      <td>0.963578</td>\n",
       "      <td>0.850500</td>\n",
       "      <td>0.112396</td>\n",
       "    </tr>\n",
       "    <tr>\n",
       "      <td>ICC3K</td>\n",
       "      <td>0.324750</td>\n",
       "      <td>0.963661</td>\n",
       "      <td>0.855215</td>\n",
       "      <td>0.112715</td>\n",
       "    </tr>\n",
       "  </tbody>\n",
       "</table>\n",
       "</div>"
      ],
      "text/plain": [
       "       regionwise_min  regionwise_max  regionwise_mean  regionwise_std\n",
       "ICC2         0.106114        0.868664         0.622342        0.156190\n",
       "ICC3         0.107329        0.868932         0.632159        0.157305\n",
       "ICC2K        0.321961        0.963578         0.850500        0.112396\n",
       "ICC3K        0.324750        0.963661         0.855215        0.112715"
      ]
     },
     "execution_count": 148,
     "metadata": {},
     "output_type": "execute_result"
    }
   ],
   "source": [
    "regwise_ICC_stats"
   ]
  },
  {
   "cell_type": "markdown",
   "metadata": {},
   "source": [
    "# Cronbach's Alpha"
   ]
  },
  {
   "cell_type": "markdown",
   "metadata": {},
   "source": [
    "#### We will also investigate the concistency of results of all 4 runs by computing the Cronbach's Alpha"
   ]
  },
  {
   "cell_type": "code",
   "execution_count": 159,
   "metadata": {},
   "outputs": [],
   "source": [
    "prod_sub_reg = sorted(list(itertools.product(all_Rscore[0].index,all_Rscore[0].columns)))"
   ]
  },
  {
   "cell_type": "code",
   "execution_count": 161,
   "metadata": {},
   "outputs": [],
   "source": [
    "vectorized_Rscores = []\n",
    "for run in range(0,4):\n",
    "    vectorized_Rscore = []\n",
    "    for (sub,reg) in prod_sub_reg:\n",
    "        vectorized_Rscore.append(all_Rscore[run][reg].loc[sub])\n",
    "    vectorized_Rscores.append(vectorized_Rscore)"
   ]
  },
  {
   "cell_type": "code",
   "execution_count": 163,
   "metadata": {},
   "outputs": [],
   "source": [
    "df = pd.DataFrame({'run1':vectorized_Rscores[0],'run2':vectorized_Rscores[1],'run3':vectorized_Rscores[2],'run4':vectorized_Rscores[3]})"
   ]
  },
  {
   "cell_type": "markdown",
   "metadata": {},
   "source": [
    "#### We use Spearman correlation here instead of Pearson correlation because it is more important to capture the similarity between ranks of different values instead of capturing the overall trend"
   ]
  },
  {
   "cell_type": "code",
   "execution_count": 169,
   "metadata": {},
   "outputs": [],
   "source": [
    "pairwise_corrs = pairwise_corr(df, method='spearman', tail='one-sided',padjust='bonf')  "
   ]
  },
  {
   "cell_type": "markdown",
   "metadata": {},
   "source": [
    "#### By the formula, Cronbach's alpha is $\\alpha=\\frac{k\\bar{\\rho}}{1+(k-1)\\bar{\\rho}}$ where $k$ is the number of runs in our case."
   ]
  },
  {
   "cell_type": "code",
   "execution_count": 183,
   "metadata": {},
   "outputs": [],
   "source": [
    "rho =np.mean(pairwise_corrs['r'])"
   ]
  },
  {
   "cell_type": "code",
   "execution_count": 184,
   "metadata": {},
   "outputs": [],
   "source": [
    "alpha = 4*rho/(1+3*rho)"
   ]
  },
  {
   "cell_type": "code",
   "execution_count": 185,
   "metadata": {},
   "outputs": [
    {
     "name": "stdout",
     "output_type": "stream",
     "text": [
      "The normalized Cronbach's alpha is equal to 0.9620001160022581\n"
     ]
    }
   ],
   "source": [
    "print(\"The normalized Cronbach's alpha is equal to {}\".format(alpha))"
   ]
  },
  {
   "cell_type": "code",
   "execution_count": null,
   "metadata": {},
   "outputs": [],
   "source": []
  }
 ],
 "metadata": {
  "kernelspec": {
   "display_name": "Python 3",
   "language": "python",
   "name": "python3"
  },
  "language_info": {
   "codemirror_mode": {
    "name": "ipython",
    "version": 3
   },
   "file_extension": ".py",
   "mimetype": "text/x-python",
   "name": "python",
   "nbconvert_exporter": "python",
   "pygments_lexer": "ipython3",
   "version": "3.7.4"
  }
 },
 "nbformat": 4,
 "nbformat_minor": 2
}
