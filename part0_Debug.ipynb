{
 "cells": [
  {
   "cell_type": "code",
   "execution_count": 17,
   "metadata": {},
   "outputs": [],
   "source": [
    "import csv\n",
    "import time\n",
    "import math\n",
    "import numpy as np\n",
    "import scipy.io\n",
    "import pandas as pd\n",
    "from matplotlib import pyplot as plt\n",
    "from os import listdir\n",
    "from os.path import dirname, join\n",
    "from numpy import log, polyfit, sqrt, std, subtract\n",
    "from hurst import compute_Hc\n",
    "from statsmodels.tsa.arima_model import ARMA, ARIMA, ARIMAResults\n",
    "from statsmodels.tsa.statespace.sarimax import SARIMAX\n",
    "from statsmodels.tsa import stattools\n",
    "import warnings\n",
    "warnings.filterwarnings(\"ignore\")\n",
    "from scipy.stats import pearsonr\n",
    "from datetime import datetime\n",
    "import sys"
   ]
  },
  {
   "cell_type": "code",
   "execution_count": 3,
   "metadata": {},
   "outputs": [
    {
     "name": "stdout",
     "output_type": "stream",
     "text": [
      "Total number of files found: 820\n",
      "Total number of files loaded: 820\n"
     ]
    }
   ],
   "source": [
    "mat_files = listdir('E:/projects/connectome/data/FMRI_820subs/run2')\n",
    "print(\"Total number of files found: \"+str(len(mat_files)))\n",
    "\n",
    "# loop through all files to extract ROI time-series from each subject and store in the tensor matrix subjects[]\n",
    "subject_ts=[]\n",
    "# define file directory\n",
    "input_files_dir = 'E:/projects/connectome/data/FMRI_820subs/run2'\n",
    "for mat_file in mat_files:\n",
    "    file_name = join(input_files_dir,mat_file)\n",
    "    temp = scipy.io.loadmat(file_name)  \n",
    "    subject_ts.append(temp['tc'])\n",
    "    \n",
    "print(\"Total number of files loaded: \"+str(len(subject_ts)))"
   ]
  },
  {
   "cell_type": "code",
   "execution_count": 4,
   "metadata": {},
   "outputs": [],
   "source": [
    "# order_and_weight = models_weights[region] stores the weights of ARMA models for a subject\n",
    "order_and_weight = [None for _ in range(len(subject_ts[0][0]))]\n",
    "# Rscore = Rscore[region] stores the Pearson correlation between fitted ARMA models and original time-series\n",
    "Rscore = [[None for _ in range(len(subject_ts[0][0]))] for _ in range(len(subject_ts))]\n",
    "# ensemble_model = ensemble_model[region] stores the ensemble ARMA models for each resion\n",
    "ensemble_ts = [None for _ in range(len(subject_ts[0][0]))] \n",
    "# Each of the model orders, paired with its model_weights as a tuple, Rscore and ensemble_model will be updated in each loop step and stored in files before they get updated"
   ]
  },
  {
   "cell_type": "code",
   "execution_count": 5,
   "metadata": {},
   "outputs": [],
   "source": [
    "# Function computeWeights compute the corresponding model weights with their AIC scores\n",
    "def computeWeights(AIC):\n",
    "    min_AIC = min(AIC)\n",
    "    AIC = np.array(AIC)\n",
    "    prob = []\n",
    "    for i in range(len(AIC)):\n",
    "        prob.append(math.exp((min_AIC-AIC[i])/2))\n",
    "    prob = np.array(prob)\n",
    "    return prob/sum(prob)\n",
    "\n",
    "def computeEnsemble(models,weights):\n",
    "    ensemble=np.array([0 for _ in range(len(models[0]))])\n",
    "    for i in range(len(models)):\n",
    "        ensemble = ensemble + np.array(models[i])*weights[i]\n",
    "    return list(ensemble)"
   ]
  },
  {
   "cell_type": "code",
   "execution_count": null,
   "metadata": {
    "scrolled": false
   },
   "outputs": [
    {
     "name": "stdout",
     "output_type": "stream",
     "text": [
      "Computation started at 01:41:09\n",
      "finished fitting model for subject 0 region 0 with (p,d,q)=(1,0,1)\n",
      "finished fitting model for subject 0 region 0 with (p,d,q)=(2,0,2)\n",
      "finished fitting model for subject 0 region 0 with (p,d,q)=(3,0,3)\n",
      "finished fitting model for subject 0 region 0 with (p,d,q)=(4,0,4)\n",
      "finished fitting model for subject 0 region 0 with (p,d,q)=(5,0,5)\n",
      "finished fitting model for subject 0 region 0 with (p,d,q)=(6,0,6)\n",
      "finished fitting model for subject 0 region 0 with (p,d,q)=(7,0,7)\n",
      "finished fitting model for subject 0 region 0 with (p,d,q)=(8,0,8)\n",
      "finished fitting model for subject 0 region 0 with (p,d,q)=(9,0,9)\n",
      "finished fitting model for subject 0 region 0 with (p,d,q)=(10,0,10)\n",
      "finished fitting model for subject 0 region 0 with (p,d,q)=(11,0,11)\n",
      "finished fitting model for subject 0 region 0 with (p,d,q)=(12,0,12)\n",
      "finished fitting model for subject 0 region 0 with (p,d,q)=(13,0,13)\n",
      "finished fitting model for subject 0 region 0 with (p,d,q)=(14,0,14)\n",
      "finished fitting model for subject 0 region 0 with (p,d,q)=(15,0,15)\n",
      "subject 0 region 0 finished at 01:41:55\n",
      "finished fitting model for subject 0 region 1 with (p,d,q)=(1,0,1)\n",
      "finished fitting model for subject 0 region 1 with (p,d,q)=(2,0,2)\n",
      "finished fitting model for subject 0 region 1 with (p,d,q)=(3,0,3)\n",
      "finished fitting model for subject 0 region 1 with (p,d,q)=(4,0,4)\n",
      "finished fitting model for subject 0 region 1 with (p,d,q)=(5,0,5)\n",
      "finished fitting model for subject 0 region 1 with (p,d,q)=(6,0,6)\n",
      "failed to fit model for subject 0 region 1 with (p,d,q)=(7,0,7)\n",
      "finished fitting model for subject 0 region 1 with (p,d,q)=(8,0,8)\n",
      "failed to fit model for subject 0 region 1 with (p,d,q)=(9,0,9)\n",
      "finished fitting model for subject 0 region 1 with (p,d,q)=(10,0,10)\n",
      "finished fitting model for subject 0 region 1 with (p,d,q)=(11,0,11)\n",
      "finished fitting model for subject 0 region 1 with (p,d,q)=(12,0,12)\n",
      "finished fitting model for subject 0 region 1 with (p,d,q)=(13,0,13)\n",
      "finished fitting model for subject 0 region 1 with (p,d,q)=(14,0,14)\n",
      "finished fitting model for subject 0 region 1 with (p,d,q)=(15,0,15)\n",
      "subject 0 region 1 finished at 01:42:47\n",
      "finished fitting model for subject 0 region 2 with (p,d,q)=(1,0,1)\n",
      "finished fitting model for subject 0 region 2 with (p,d,q)=(2,0,2)\n",
      "finished fitting model for subject 0 region 2 with (p,d,q)=(3,0,3)\n",
      "finished fitting model for subject 0 region 2 with (p,d,q)=(4,0,4)\n",
      "finished fitting model for subject 0 region 2 with (p,d,q)=(5,0,5)\n",
      "finished fitting model for subject 0 region 2 with (p,d,q)=(6,0,6)\n",
      "finished fitting model for subject 0 region 2 with (p,d,q)=(7,0,7)\n",
      "finished fitting model for subject 0 region 2 with (p,d,q)=(8,0,8)\n",
      "finished fitting model for subject 0 region 2 with (p,d,q)=(9,0,9)\n"
     ]
    }
   ],
   "source": [
    "d = 0 # Due to stationarity test results our time-series are stationary (possibly with fractional integration order) so we do not difference\n",
    "now = datetime.now()\n",
    "current_time = now.strftime(\"%H:%M:%S\")\n",
    "print('Computation started at '+ str(current_time))\n",
    "p_max = 15\n",
    "q_max = 6\n",
    "for sub in range(40): # only 41 subjects in each stack\n",
    "    for reg in range(0,20):\n",
    "        ts = subject_ts[sub][:,reg]\n",
    "        #PACF=stattools.pacf(ts) # use partial auto-correlation to determine the differencing order\n",
    "        #if abs(PACF[1])>0.2:\n",
    "        #    d=1 # if the lag-1 autocorrelation is strong, take an order 1-differencing\n",
    "        #else:\n",
    "        #    d=0\n",
    "        predictions = [] # a 2D array that stores the predicted values of all fitted models\n",
    "        AIC = [] # an 1D array that stores AIC scores\n",
    "        orders = []\n",
    "        for p in range(1,p_max+1):\n",
    "            try:\n",
    "                q = p\n",
    "                fitted_model = SARIMAX(ts,order=(p,d,q),enforce_invertibility=False).fit(disp=-1)\n",
    "                predictions.append(fitted_model.predict())\n",
    "                orders.append((p,d,q))\n",
    "                AIC.append(fitted_model.aic)\n",
    "                weights = computeWeights(AIC)\n",
    "                orders_and_weights = (orders, weights)    \n",
    "                print(\"finished fitting model for subject {} region {} with (p,d,q)=({},{},{})\".format(sub, reg,p,d,q))\n",
    "            except:\n",
    "                print(\"failed to fit model for subject {} region {} with (p,d,q)=({},{},{})\".format(sub, reg,p,d,q))\n",
    "                continue\n",
    "        \n",
    "        ensemble = computeEnsemble(predictions,weights)\n",
    "        Rscore[sub][reg] = pearsonr(ensemble,ts)[0]\n",
    "        \n",
    "        order_and_weight[reg] = orders_and_weights\n",
    "        ensemble_ts[reg] = ensemble\n",
    "        \n",
    "        now = datetime.now()\n",
    "        current_time = now.strftime(\"%H:%M:%S\")\n",
    "        print('subject {} region {} finished at {}'.format(sub,reg,str(current_time)))"
   ]
  },
  {
   "cell_type": "code",
   "execution_count": null,
   "metadata": {},
   "outputs": [],
   "source": [
    "sorted([Rscore[i][3] for i in range(len(Rscore))])"
   ]
  },
  {
   "cell_type": "code",
   "execution_count": null,
   "metadata": {},
   "outputs": [],
   "source": [
    "def plotTS(original_ts,sub,reg,start=0,end=100,fitted_ts1=None,fitted_ts2=None):\n",
    "    # sub: subject ID, an 6-digit number, data type:int\n",
    "    # reg: region number, data type: int\n",
    "    # start, end: starting point and end point of the time-series that is to be plotted, data type:int\n",
    "    fitted1 = fitted2 = None\n",
    "    if fitted_ts1:\n",
    "        fitted1 = fitted_ts1[ID_to_row_num['sub'+str(sub)]][reg,:][start:end]\n",
    "    if fitted_ts2:\n",
    "        fitted2 = fitted_ts2[ID_to_row_num['sub'+str(sub)]][reg,:][start:end]\n",
    "        \n",
    "    original = original_ts[ID_to_row_num['sub'+str(sub)]][:,reg][start:end]\n",
    "    if any(fitted1):\n",
    "        plt.plot(fitted1, color='g',label='fitted_ensemble1')\n",
    "    if any(fitted2):\n",
    "        plt.plot(fitted2,color='b',label='fitted_ensemble2')\n",
    "        \n",
    "    plt.plot(original, color='r', label='original' )\n",
    "    plt.legend()\n",
    "    plt.show()"
   ]
  },
  {
   "cell_type": "code",
   "execution_count": null,
   "metadata": {},
   "outputs": [],
   "source": [
    "plt.plot(subject_ts[1][:,3][:1200],color='g',label='original')\n",
    "plt.plot(ensemble_ts[3][0:1200],color='r',label='fitted_ensemble')\n",
    "plt.legend()\n",
    "plt.show()"
   ]
  },
  {
   "cell_type": "code",
   "execution_count": null,
   "metadata": {},
   "outputs": [],
   "source": [
    "pearsonr(ensemble_ts[3],subject_ts[1][:,3])[0]"
   ]
  },
  {
   "cell_type": "code",
   "execution_count": null,
   "metadata": {},
   "outputs": [],
   "source": [
    "order_and_weight[3]"
   ]
  },
  {
   "cell_type": "code",
   "execution_count": null,
   "metadata": {
    "scrolled": true
   },
   "outputs": [],
   "source": [
    "sub_orders_and_weights[3]"
   ]
  },
  {
   "cell_type": "code",
   "execution_count": null,
   "metadata": {},
   "outputs": [],
   "source": [
    "file_dir = 'E:/projects/connectome/results/HurstExp_ARMA_results_0_to_5/ensemble_orders_and_weights'\n",
    "file_names = listdir(file_dir)\n",
    "file_names"
   ]
  },
  {
   "cell_type": "code",
   "execution_count": null,
   "metadata": {},
   "outputs": [],
   "source": [
    "file_name= 'ensemble_orders_and_weights_100307.mat'\n",
    "file = join(file_dir,file_name)\n",
    "sub_orders_and_weights = scipy.io.loadmat(file)['ensemble_orders_and_weights']"
   ]
  },
  {
   "cell_type": "code",
   "execution_count": 65,
   "metadata": {},
   "outputs": [],
   "source": [
    "import math, random\n",
    "y = []\n",
    "for i in range(1,30):\n",
    "    y.append(math.sin(math.pi*i/3)+random.gauss(0.05,0.01)+i/3)"
   ]
  },
  {
   "cell_type": "code",
   "execution_count": null,
   "metadata": {},
   "outputs": [],
   "source": []
  },
  {
   "cell_type": "code",
   "execution_count": 78,
   "metadata": {},
   "outputs": [],
   "source": [
    "ARMA= SARIMAX(y,order=(7,0,0),enforce_invertibility=False).fit()"
   ]
  },
  {
   "cell_type": "code",
   "execution_count": 79,
   "metadata": {},
   "outputs": [],
   "source": [
    "hat_y = ARMA.predict()"
   ]
  },
  {
   "cell_type": "code",
   "execution_count": 80,
   "metadata": {},
   "outputs": [
    {
     "data": {
      "image/png": "[encoded data removed]",
      "text/plain": [
       "<Figure size 432x288 with 1 Axes>"
      ]
     },
     "metadata": {
      "needs_background": "light"
     },
     "output_type": "display_data"
    }
   ],
   "source": [
    "plt.plot(hat_y,color='g')\n",
    "plt.plot(y,color = 'red')\n",
    "plt.show()"
   ]
  },
  {
   "cell_type": "code",
   "execution_count": null,
   "metadata": {},
   "outputs": [],
   "source": []
  }
 ],
 "metadata": {
  "kernelspec": {
   "display_name": "Python 3",
   "language": "python",
   "name": "python3"
  },
  "language_info": {
   "codemirror_mode": {
    "name": "ipython",
    "version": 3
   },
   "file_extension": ".py",
   "mimetype": "text/x-python",
   "name": "python",
   "nbconvert_exporter": "python",
   "pygments_lexer": "ipython3",
   "version": "3.7.4"
  }
 },
 "nbformat": 4,
 "nbformat_minor": 2
}
